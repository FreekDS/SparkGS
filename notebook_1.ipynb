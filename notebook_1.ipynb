{
 "cells": [
  {
   "cell_type": "markdown",
   "metadata": {},
   "source": [
    "## Setup of environnement\n",
    "This section contains all the imports of modules that are required to run this Notebook.\n",
    "The output of this section is the contents of the input directory.\n",
    "This directory must be called 'data'."
   ]
  },
  {
   "cell_type": "code",
   "execution_count": 1,
   "metadata": {},
   "outputs": [
    {
     "name": "stdout",
     "output_type": "stream",
     "text": [
      "data/citizens2.txt\n",
      "data/flemish_districs.txt\n",
      "data/zipcodes.csv\n",
      "data/citizens.txt\n",
      "data/stops.txt\n"
     ]
    }
   ],
   "source": [
    "from pyspark.sql import SparkSession, SQLContext\n",
    "from pyspark.sql.functions import col, explode, json_tuple, regexp_replace\n",
    "from pyspark.sql.functions import sum as col_sum\n",
    "from pyspark.sql.types import StructField, StructType, StringType, IntegerType, ArrayType, FloatType\n",
    "import pyspark\n",
    "from pyspark import SparkConf\n",
    "\n",
    "import re\n",
    "import os\n",
    "\n",
    "spark = SparkSession.builder.appName(\"Notebook 1\").master(\"local\").getOrCreate()\n",
    "\n",
    "for dirname, _, filenames in os.walk('data'):\n",
    "    for filename in filenames:\n",
    "        print(os.path.join(dirname, filename))"
   ]
  },
  {
   "cell_type": "markdown",
   "metadata": {},
   "source": [
    "## Data preparation\n",
    "In this section, the data gets prepared and cleaned so that it is easy to use in the future."
   ]
  },
  {
   "cell_type": "markdown",
   "metadata": {},
   "source": [
    "#### Stops\n",
    "In this section the stops txt file gets converted into a usable dataframe.\n",
    "The output of this section are the first 20 entries of the resulting dataframe.\n",
    "Village number, entity number and the links irrelevant data, so they are removed from the dataframe.\n",
    "To be more consistent with the rest of this notebook, the Dutch names are translated to English names."
   ]
  },
  {
   "cell_type": "code",
   "execution_count": 2,
   "metadata": {},
   "outputs": [
    {
     "name": "stdout",
     "output_type": "stream",
     "text": [
      "+--------------------+-----------+--------------------+---------+\n",
      "|               coord|stop_number|                desc|  village|\n",
      "+--------------------+-----------+--------------------+---------+\n",
      "|[51.1638893702134...|     101000| A. Chantrainestraat|  Wilrijk|\n",
      "|[51.2062496902375...|     101001|           Zurenborg|Antwerpen|\n",
      "|[51.1660665941742...|     101002|Verenigde Natieslaan|  Hoboken|\n",
      "|[51.1660216374063...|     101003|Verenigde Natieslaan|  Hoboken|\n",
      "|[51.1740548394127...|     101004|     D. Baginierlaan|  Hoboken|\n",
      "|[51.1630084393468...|     101005| A. Chantrainestraat|  Wilrijk|\n",
      "|[51.1597748887066...|     101006|      Fotografielaan|  Wilrijk|\n",
      "|[51.1599636330007...|     101007|      Fotografielaan|  Wilrijk|\n",
      "|[51.1629556669243...|     101008|            Moerelei|  Wilrijk|\n",
      "|[51.1634592883462...|     101009|            Moerelei|  Wilrijk|\n",
      "|[51.1887431659368...|     101010|        J. De Voslei|Antwerpen|\n",
      "|[51.1829725415369...|     101011|   Middelheim Vijver|Antwerpen|\n",
      "|[51.1622018810643...|     101012|          Antarctica|  Wilrijk|\n",
      "|[51.1619502254637...|     101013|          Antarctica|  Wilrijk|\n",
      "|[51.1794217154344...|     101014|     Rozenkransplein|  Wilrijk|\n",
      "|[51.1795025837593...|     101015|     Rozenkransplein|  Wilrijk|\n",
      "|[51.1750618209695...|     101016|   L. Kieboomsstraat|  Wilrijk|\n",
      "|[51.1754304098470...|     101017|   L. Kieboomsstraat|  Wilrijk|\n",
      "|[51.1769064386623...|     101018|         Rooiboslaan|  Wilrijk|\n",
      "|[51.1766817117476...|     101019|         Rooiboslaan|  Wilrijk|\n",
      "+--------------------+-----------+--------------------+---------+\n",
      "only showing top 20 rows\n",
      "\n"
     ]
    }
   ],
   "source": [
    "# Read in the file (as json) and convert to a single column\n",
    "# The 'haltes' column gets renamed to 'stops'\n",
    "stops = spark.read.json(\"data/stops.txt\")\n",
    "stops = stops.select((explode(\"haltes\").alias(\"stops\")))\n",
    "\n",
    "# Map each entry in the dataframe to its own stop\n",
    "stops = stops.select('stops').rdd.map(lambda x: x.stops).toDF()\n",
    "# Drop unnecessary data\n",
    "stops = stops.drop('links', 'gemeentenummer', 'entiteitnummer')\n",
    "\n",
    "# Rename columns of dataframe to better name\n",
    "stops = stops \\\n",
    "            .withColumnRenamed('haltenummer', 'stop_number') \\\n",
    "            .withColumnRenamed('omschrijving', 'desc') \\\n",
    "            .withColumnRenamed('geoCoordinaat', 'coord') \\\n",
    "            .withColumnRenamed('omschrijvingGemeente', 'village') \\\n",
    "\n",
    "# Show the first 20 entries of the dataframe\n",
    "stops.show()\n"
   ]
  },
  {
   "cell_type": "markdown",
   "metadata": {},
   "source": [
    "#### Citizens\n",
    "In this section the citizens file is read and converted to a Pyspark dataframe.\n",
    "With this dataframe, calculations on the data can be made easier.\n",
    "First, the unneccessary headers are removed from the data.\n",
    "The French equivalent of the town names is not important and is thus removed.\n",
    "Empty lines and excess whitespaces are removed as well.\n",
    "The numbers in this file contain a '.' if the numbers are larger than 999.\n",
    "This '.' is removed as well.\n",
    "The output of this section are the first 20 entries of the resulting dataframe and the schema that is used within the dataframe."
   ]
  },
  {
   "cell_type": "code",
   "execution_count": 3,
   "metadata": {
    "scrolled": false
   },
   "outputs": [
    {
     "name": "stdout",
     "output_type": "stream",
     "text": [
      "+--------------------+--------+\n",
      "|             village|citizens|\n",
      "+--------------------+--------+\n",
      "|          Anderlecht|  117724|\n",
      "|             Brussel|  177112|\n",
      "|              Elsene|   86336|\n",
      "|           Etterbeek|   47410|\n",
      "|               Evere|   41016|\n",
      "|           Ganshoren|   24794|\n",
      "|               Jette|   52144|\n",
      "|          Koekelberg|   21765|\n",
      "|            Oudergem|   33725|\n",
      "|          Schaarbeek|  132097|\n",
      "| Sint‐Agatha‐Berchem|   24831|\n",
      "|         Sint‐Gillis|   49361|\n",
      "| Sint‐Jans‐Molenbeek|   95455|\n",
      "| Sint‐Joost‐ten‐Node|   26813|\n",
      "|Sint‐Lambrechts‐W...|   56212|\n",
      "| Sint‐Pieters‐Woluwe|   41513|\n",
      "|               Ukkel|   82038|\n",
      "|               Vorst|   55694|\n",
      "| Watermaal‐Bosvoorde|   25001|\n",
      "|          Aartselaar|   14298|\n",
      "+--------------------+--------+\n",
      "only showing top 20 rows\n",
      "\n",
      "root\n",
      " |-- village: string (nullable = false)\n",
      " |-- citizens: integer (nullable = true)\n",
      "\n"
     ]
    }
   ],
   "source": [
    "citizens = sc.textFile(\"data/citizens.txt\")\n",
    "citizens.collect()\n",
    "\n",
    "# Remove unnecessary headers\n",
    "citizens = citizens.map(lambda x: re.sub(\n",
    "    r'^KONINKRIJK.*|^BRUSSELS.*|^ARR.*|^ARRONDISSEMENT.*|^PROVINC.*|^VLAAMS.*|^REGION.*', '', x))\n",
    "\n",
    "# Replace 'village / village-in-french' with 'village'\n",
    "citizens = citizens.map(lambda x: re.sub(r'/ .* ', '', x))\n",
    "\n",
    "# Remove everything in between parentheses\n",
    "citizens = citizens.map(lambda x: re.sub(r'\\(.*\\)', '', x))\n",
    "\n",
    "# Remove excess whitespaces\n",
    "citizens = citizens.map(lambda x: re.sub(r\"[^\\S\\n\\t]+\", ' ', x))\n",
    "\n",
    "# Remove empty lines\n",
    "citizens = citizens.filter(lambda x: x != '')\n",
    "\n",
    "# Remove '.' from the numbers\n",
    "citizens = citizens.map(lambda x: re.sub(r'\\.', '', x))\n",
    "\n",
    "# Split on space: gives a list of lists [[village, amount], [village, amount]...]\n",
    "citizens = citizens.map(lambda x: x.rsplit(' ', 1))\n",
    "\n",
    "# Create schema for dataframe. Citizens must be a StringType for now to avoid conversion errors.\n",
    "s = StructType([\n",
    "    StructField('village', StringType(), False),\n",
    "    StructField('citizens', StringType(), False)\n",
    "])\n",
    "\n",
    "# Create schema and cast the citizens column to IntegerType\n",
    "citizens = citizens.toDF(schema=s)\n",
    "\n",
    "# Cast to citizens column to integers\n",
    "citizens = citizens.withColumn(\"citizens\", citizens['citizens'].cast(IntegerType()))\n",
    "\n",
    "# Show the dataframe and the schema\n",
    "citizens.show()\n",
    "citizens.printSchema()\n"
   ]
  },
  {
   "cell_type": "markdown",
   "metadata": {},
   "source": [
    "## Number of stops per citizen\n",
    "Finally, all the data of the previous sections is combined to calculate the amount of stop per citizen in general."
   ]
  },
  {
   "cell_type": "code",
   "execution_count": 4,
   "metadata": {},
   "outputs": [
    {
     "name": "stdout",
     "output_type": "stream",
     "text": [
      "There are 0.0031509838967026657 stops per citizen\n"
     ]
    }
   ],
   "source": [
    "# Count the number of stops\n",
    "amount_of_stops = stops.count()\n",
    "\n",
    "# Calculate the sum of the citizens column\n",
    "amount_of_citizens = citizens.select(col_sum('citizens')).collect()[0][0]\n",
    "\n",
    "print(\"There are {} stops per citizen\".format(amount_of_stops / amount_of_citizens))"
   ]
  },
  {
   "cell_type": "code",
   "execution_count": null,
   "metadata": {},
   "outputs": [],
   "source": []
  }
 ],
 "metadata": {
  "kernelspec": {
   "display_name": "Python 3",
   "language": "python",
   "name": "python3"
  },
  "language_info": {
   "codemirror_mode": {
    "name": "ipython",
    "version": 3
   },
   "file_extension": ".py",
   "mimetype": "text/x-python",
   "name": "python",
   "nbconvert_exporter": "python",
   "pygments_lexer": "ipython3",
   "version": "3.7.4"
  }
 },
 "nbformat": 4,
 "nbformat_minor": 2
}
