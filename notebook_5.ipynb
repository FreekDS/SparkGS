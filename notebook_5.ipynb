{
 "cells": [
  {
   "cell_type": "markdown",
   "metadata": {},
   "source": [
    "## Setup of the environnement"
   ]
  },
  {
   "cell_type": "code",
   "execution_count": 35,
   "metadata": {},
   "outputs": [],
   "source": [
    "from pyspark.sql import SparkSession, SQLContext\n",
    "from pyspark.sql.functions import col, explode, json_tuple, regexp_replace, udf\n",
    "from pyspark.sql.functions import sum as col_sum\n",
    "from pyspark.sql.types import BooleanType, StructType, StructField, StringType, IntegerType, FloatType\n",
    "\n",
    "from math import radians, cos, sin, asin, sqrt\n",
    "from typing import List\n",
    "\n",
    "import re\n",
    "import os"
   ]
  },
  {
   "cell_type": "markdown",
   "metadata": {},
   "source": [
    "## Find the center coordinates of the villages"
   ]
  },
  {
   "cell_type": "code",
   "execution_count": 52,
   "metadata": {},
   "outputs": [
    {
     "name": "stdout",
     "output_type": "stream",
     "text": [
      "+-----------+--------------------+----------+----------+\n",
      "|postal code|             Village|lat_center|lon_center|\n",
      "+-----------+--------------------+----------+----------+\n",
      "|       1000|             Brussel|  50.84275|   4.35155|\n",
      "|       1000|           Bruxelles|  50.84275|   4.35155|\n",
      "|       1005|Brusselse Hoofdst...| 50.844875| 4.3514333|\n",
      "|       1005|Conseil Region Br...|  50.84786|  4.367408|\n",
      "|       1008|Chambre des Repr�...| 50.846558|  4.364662|\n",
      "|       1008|Kamer van Volksve...| 50.846558|  4.364662|\n",
      "|       1009|   Senat de Belgique|  50.79834|   4.39565|\n",
      "|       1010|Rijksadministrati...|  50.82433|  4.513954|\n",
      "|       1012|Parlement de la C...| 50.846638| 4.3619924|\n",
      "|       1020|             Brussel| 50.884216| 4.3580003|\n",
      "|       1020|           Bruxelles| 50.884216| 4.3580003|\n",
      "|       1020|              Laeken| 50.884216| 4.3580003|\n",
      "|       1020|               Laken| 50.884216| 4.3580003|\n",
      "|       1030|             Brussel|  50.86744|   4.37727|\n",
      "|       1030|           Bruxelles|  50.86744|   4.37727|\n",
      "|       1030|          Schaarbeek|  50.86744|   4.37727|\n",
      "|       1030|          Schaerbeek|  50.86744|   4.37727|\n",
      "|       1040|             Brussel| 50.832176|  4.388949|\n",
      "|       1040|           Bruxelles| 50.832176|  4.388949|\n",
      "|       1040|           Etterbeek| 50.832176|  4.388949|\n",
      "+-----------+--------------------+----------+----------+\n",
      "only showing top 20 rows\n",
      "\n"
     ]
    }
   ],
   "source": [
    "data = sc.textFile(\"data/zipcodes.csv\")\n",
    "data = data.map(lambda x: re.sub(r' \\(.*\\)', '', x))\n",
    "data = data.map(lambda x: re.sub(r\"[^\\S\\n\\t]+\", ' ', x))\n",
    "data = data.map(lambda x: x.split(';'))\n",
    "\n",
    "schema = StructType([\n",
    "    StructField('postal code', StringType(), False),\n",
    "    StructField('Village', StringType(), False),\n",
    "    StructField('lat_center', StringType(), False),\n",
    "    StructField('lon_center', StringType(), False),\n",
    "    StructField('url', StringType(), False)\n",
    "])\n",
    "\n",
    "\n",
    "data = data.toDF(schema=schema).drop(\"url\")\n",
    "data = data.withColumn(\"lat_center\", data['lat_center'].cast(FloatType()))\n",
    "data = data.withColumn(\"lon_center\", data['lon_center'].cast(FloatType()))\n",
    "\n",
    "centers = data.where(col(\"lat_center\").isNotNull() & col(\"lon_center\").isNotNull())\n",
    "\n",
    "centers.show()"
   ]
  },
  {
   "cell_type": "markdown",
   "metadata": {},
   "source": [
    "## Stops"
   ]
  },
  {
   "cell_type": "code",
   "execution_count": 57,
   "metadata": {},
   "outputs": [
    {
     "name": "stdout",
     "output_type": "stream",
     "text": [
      "+--------------------+-----------+--------------------+---------+\n",
      "|               coord|stop_number|                desc|     vill|\n",
      "+--------------------+-----------+--------------------+---------+\n",
      "|[51.1638893702134...|     101000| A. Chantrainestraat|  Wilrijk|\n",
      "|[51.2062496902375...|     101001|           Zurenborg|Antwerpen|\n",
      "|[51.1660665941742...|     101002|Verenigde Natieslaan|  Hoboken|\n",
      "|[51.1660216374063...|     101003|Verenigde Natieslaan|  Hoboken|\n",
      "|[51.1740548394127...|     101004|     D. Baginierlaan|  Hoboken|\n",
      "|[51.1630084393468...|     101005| A. Chantrainestraat|  Wilrijk|\n",
      "|[51.1597748887066...|     101006|      Fotografielaan|  Wilrijk|\n",
      "|[51.1599636330007...|     101007|      Fotografielaan|  Wilrijk|\n",
      "|[51.1629556669243...|     101008|            Moerelei|  Wilrijk|\n",
      "|[51.1634592883462...|     101009|            Moerelei|  Wilrijk|\n",
      "|[51.1887431659368...|     101010|        J. De Voslei|Antwerpen|\n",
      "|[51.1829725415369...|     101011|   Middelheim Vijver|Antwerpen|\n",
      "|[51.1622018810643...|     101012|          Antarctica|  Wilrijk|\n",
      "|[51.1619502254637...|     101013|          Antarctica|  Wilrijk|\n",
      "|[51.1794217154344...|     101014|     Rozenkransplein|  Wilrijk|\n",
      "|[51.1795025837593...|     101015|     Rozenkransplein|  Wilrijk|\n",
      "|[51.1750618209695...|     101016|   L. Kieboomsstraat|  Wilrijk|\n",
      "|[51.1754304098470...|     101017|   L. Kieboomsstraat|  Wilrijk|\n",
      "|[51.1769064386623...|     101018|         Rooiboslaan|  Wilrijk|\n",
      "|[51.1766817117476...|     101019|         Rooiboslaan|  Wilrijk|\n",
      "+--------------------+-----------+--------------------+---------+\n",
      "only showing top 20 rows\n",
      "\n"
     ]
    }
   ],
   "source": [
    "# Read in the file (as json) and convert to a single column\n",
    "# The 'haltes' column gets renamed to 'stops'\n",
    "stops = spark.read.json(\"data/stops.txt\")\n",
    "stops = stops.select((explode(\"haltes\").alias(\"stops\")))\n",
    "\n",
    "# Map each entry in the dataframe to its own stop\n",
    "stops = stops.select('stops').rdd.map(lambda x: x.stops).toDF()\n",
    "# Drop unnecessary data\n",
    "stops = stops.drop('links', 'gemeentenummer', 'entiteitnummer')\n",
    "\n",
    "# Rename columns of dataframe to better name\n",
    "stops = stops \\\n",
    "            .withColumnRenamed('haltenummer', 'stop_number') \\\n",
    "            .withColumnRenamed('omschrijving', 'desc') \\\n",
    "            .withColumnRenamed('geoCoordinaat', 'coord') \\\n",
    "            .withColumnRenamed('omschrijvingGemeente', 'vill') \\\n",
    "\n",
    "# Show the first 20 entries of the dataframe\n",
    "stops.show()"
   ]
  },
  {
   "cell_type": "markdown",
   "metadata": {},
   "source": [
    "## Combination of the data"
   ]
  },
  {
   "cell_type": "code",
   "execution_count": 59,
   "metadata": {},
   "outputs": [
    {
     "name": "stdout",
     "output_type": "stream",
     "text": [
      "+--------------------+-----------+--------------------+-----------+-------+----------+----------+\n",
      "|               coord|stop_number|                desc|postal code|Village|lat_center|lon_center|\n",
      "+--------------------+-----------+--------------------+-----------+-------+----------+----------+\n",
      "|[50.7173104811086...|     208604|           Kamstraat|       1547|  Bever|  50.71827|  3.940144|\n",
      "|[50.7148898550618...|     208606|              Burght|       1547|  Bever|  50.71827|  3.940144|\n",
      "|[50.7122250352873...|     208607|            Kerkhove|       1547|  Bever|  50.71827|  3.940144|\n",
      "|[50.7098088283453...|     208608|              Broeck|       1547|  Bever|  50.71827|  3.940144|\n",
      "|[50.7034722690539...|     208609|             Commijn|       1547|  Bever|  50.71827|  3.940144|\n",
      "|[50.6974143044988...|     208610|               Muydt|       1547|  Bever|  50.71827|  3.940144|\n",
      "|[50.7283193498827...|     208613|            Akrenbos|       1547|  Bever|  50.71827|  3.940144|\n",
      "|[50.7199986904738...|     208614|Akrenbos/Bloemendael|       1547|  Bever|  50.71827|  3.940144|\n",
      "|[50.7178715722907...|     208615|  Bloemendael/Burght|       1547|  Bever|  50.71827|  3.940144|\n",
      "|[50.7173111913171...|     209604|           Kamstraat|       1547|  Bever|  50.71827|  3.940144|\n",
      "|[50.7146556528646...|     209606|              Burght|       1547|  Bever|  50.71827|  3.940144|\n",
      "|[50.7118654485317...|     209607|            Kerkhove|       1547|  Bever|  50.71827|  3.940144|\n",
      "|[50.7095028087524...|     209608|              Broeck|       1547|  Bever|  50.71827|  3.940144|\n",
      "|[50.7034100289362...|     209609|             Commijn|       1547|  Bever|  50.71827|  3.940144|\n",
      "|[50.6972350951905...|     209610|               Muydt|       1547|  Bever|  50.71827|  3.940144|\n",
      "|[50.7284188431017...|     209613|            Akrenbos|       1547|  Bever|  50.71827|  3.940144|\n",
      "|[50.7201072305640...|     209614|Akrenbos/Bloemendael|       1547|  Bever|  50.71827|  3.940144|\n",
      "|[50.7179968915819...|     209615|  Bloemendael/Burght|       1547|  Bever|  50.71827|  3.940144|\n",
      "|[50.7172295233440...|     307595|           Kamstraat|       1547|  Bever|  50.71827|  3.940144|\n",
      "|[50.7172396382805...|     307596|        Gemeentehuis|       1547|  Bever|  50.71827|  3.940144|\n",
      "+--------------------+-----------+--------------------+-----------+-------+----------+----------+\n",
      "only showing top 20 rows\n",
      "\n"
     ]
    }
   ],
   "source": [
    "joined = stops.join(centers, stops.vill == centers.Village)\n",
    "joined = joined.drop(\"vill\")\n",
    "joined.show()"
   ]
  },
  {
   "cell_type": "markdown",
   "metadata": {},
   "source": [
    "## Haversine function\n",
    "A function to calculate the distance in between two geocoordinates. <br>\n",
    "Found at https://stackoverflow.com/questions/4913349/haversine-formula-in-python-bearing-and-distance-between-two-gps-points"
   ]
  },
  {
   "cell_type": "code",
   "execution_count": 60,
   "metadata": {},
   "outputs": [],
   "source": [
    "def haversine(lon1, lat1, lon2, lat2):\n",
    "    \"\"\"\n",
    "    Calculate the great circle distance between two points \n",
    "    on the earth (specified in decimal degrees)\n",
    "    \"\"\"\n",
    "    # convert decimal degrees to radians \n",
    "    lon1, lat1, lon2, lat2 = map(radians, [lon1, lat1, lon2, lat2])\n",
    "\n",
    "    # haversine formula \n",
    "    dlon = lon2 - lon1 \n",
    "    dlat = lat2 - lat1 \n",
    "    a = sin(dlat/2)**2 + cos(lat1) * cos(lat2) * sin(dlon/2)**2\n",
    "    c = 2 * asin(sqrt(a)) \n",
    "    r = 6371 # Radius of earth in kilometers. Use 3956 for miles\n",
    "    return c * r"
   ]
  },
  {
   "cell_type": "markdown",
   "metadata": {},
   "source": [
    "## Calculate distance function"
   ]
  },
  {
   "cell_type": "code",
   "execution_count": 65,
   "metadata": {},
   "outputs": [],
   "source": [
    "@udf(returnType=FloatType())\n",
    "def calculate_distance(lat_center, lon_center, location):\n",
    "    lat1 = lat_center\n",
    "    lon1 = lon_center\n",
    "    \n",
    "    lat2 = location[0]\n",
    "    lon2 = location[1]\n",
    "    \n",
    "    return haversine(lon1, lat1, lon2, lat2)"
   ]
  },
  {
   "cell_type": "markdown",
   "metadata": {},
   "source": [
    "## Adding distances to dataframe"
   ]
  },
  {
   "cell_type": "code",
   "execution_count": 70,
   "metadata": {},
   "outputs": [
    {
     "name": "stdout",
     "output_type": "stream",
     "text": [
      "+-----------+--------------------+-----------+-------+----------+\n",
      "|stop_number|                desc|postal code|Village|  distance|\n",
      "+-----------+--------------------+-----------+-------+----------+\n",
      "|     208604|           Kamstraat|       1547|  Bever|0.63004684|\n",
      "|     208606|              Burght|       1547|  Bever|0.47692096|\n",
      "|     208607|            Kerkhove|       1547|  Bever| 0.8597775|\n",
      "|     208608|              Broeck|       1547|  Bever| 1.1527758|\n",
      "|     208609|             Commijn|       1547|  Bever| 1.7655205|\n",
      "|     208610|               Muydt|       1547|  Bever| 2.4481733|\n",
      "|     208613|            Akrenbos|       1547|  Bever| 2.2808323|\n",
      "|     208614|Akrenbos/Bloemendael|       1547|  Bever| 2.0864077|\n",
      "|     208615|  Bloemendael/Burght|       1547|  Bever| 1.0272938|\n",
      "|     209604|           Kamstraat|       1547|  Bever|0.64379346|\n",
      "|     209606|              Burght|       1547|  Bever|0.50295454|\n",
      "|     209607|            Kerkhove|       1547|  Bever|  0.891243|\n",
      "|     209608|              Broeck|       1547|  Bever| 1.1845483|\n",
      "|     209609|             Commijn|       1547|  Bever| 1.7673174|\n",
      "|     209610|               Muydt|       1547|  Bever| 2.4635549|\n",
      "|     209613|            Akrenbos|       1547|  Bever| 2.2767982|\n",
      "|     209614|Akrenbos/Bloemendael|       1547|  Bever|   2.07572|\n",
      "|     209615|  Bloemendael/Burght|       1547|  Bever| 1.0368347|\n",
      "|     307595|           Kamstraat|       1547|  Bever|0.63070285|\n",
      "|     307596|        Gemeentehuis|       1547|  Bever|0.16338688|\n",
      "+-----------+--------------------+-----------+-------+----------+\n",
      "only showing top 20 rows\n",
      "\n"
     ]
    }
   ],
   "source": [
    "result = joined.withColumn('distance', \n",
    "                           calculate_distance('lat_center', 'lon_center', 'coord')).drop(\"coord\", \"lat_center\", \"lon_center\")\n",
    "result.show()"
   ]
  },
  {
   "cell_type": "code",
   "execution_count": null,
   "metadata": {},
   "outputs": [],
   "source": []
  }
 ],
 "metadata": {
  "kernelspec": {
   "display_name": "Python 3",
   "language": "python",
   "name": "python3"
  },
  "language_info": {
   "codemirror_mode": {
    "name": "ipython",
    "version": 3
   },
   "file_extension": ".py",
   "mimetype": "text/x-python",
   "name": "python",
   "nbconvert_exporter": "python",
   "pygments_lexer": "ipython3",
   "version": "3.7.4"
  }
 },
 "nbformat": 4,
 "nbformat_minor": 2
}
