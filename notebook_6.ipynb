{
 "cells": [
  {
   "cell_type": "code",
   "execution_count": 20,
   "metadata": {},
   "outputs": [],
   "source": [
    "from pyspark.sql import SparkSession, SQLContext\n",
    "from pyspark.sql.functions import col, explode, json_tuple, regexp_replace, udf\n",
    "from pyspark.sql.functions import sum as col_sum\n",
    "from pyspark.sql.types import StructField, StructType, StringType, IntegerType, ArrayType, FloatType\n",
    "import pyspark\n",
    "from pyspark import SparkConf\n",
    "\n",
    "from math import radians, cos, sin, asin, sqrt\n",
    "\n",
    "import re\n",
    "import os"
   ]
  },
  {
   "cell_type": "code",
   "execution_count": 21,
   "metadata": {},
   "outputs": [
    {
     "name": "stdout",
     "output_type": "stream",
     "text": [
      "+--------------------+-----------+--------------------+---------+\n",
      "|               coord|stop_number|                desc|  village|\n",
      "+--------------------+-----------+--------------------+---------+\n",
      "|[51.1638893702134...|     101000| A. Chantrainestraat|  Wilrijk|\n",
      "|[51.2062496902375...|     101001|           Zurenborg|Antwerpen|\n",
      "|[51.1660665941742...|     101002|Verenigde Natieslaan|  Hoboken|\n",
      "|[51.1660216374063...|     101003|Verenigde Natieslaan|  Hoboken|\n",
      "|[51.1740548394127...|     101004|     D. Baginierlaan|  Hoboken|\n",
      "|[51.1630084393468...|     101005| A. Chantrainestraat|  Wilrijk|\n",
      "|[51.1597748887066...|     101006|      Fotografielaan|  Wilrijk|\n",
      "|[51.1599636330007...|     101007|      Fotografielaan|  Wilrijk|\n",
      "|[51.1629556669243...|     101008|            Moerelei|  Wilrijk|\n",
      "|[51.1634592883462...|     101009|            Moerelei|  Wilrijk|\n",
      "|[51.1887431659368...|     101010|        J. De Voslei|Antwerpen|\n",
      "|[51.1829725415369...|     101011|   Middelheim Vijver|Antwerpen|\n",
      "|[51.1622018810643...|     101012|          Antarctica|  Wilrijk|\n",
      "|[51.1619502254637...|     101013|          Antarctica|  Wilrijk|\n",
      "|[51.1794217154344...|     101014|     Rozenkransplein|  Wilrijk|\n",
      "|[51.1795025837593...|     101015|     Rozenkransplein|  Wilrijk|\n",
      "|[51.1750618209695...|     101016|   L. Kieboomsstraat|  Wilrijk|\n",
      "|[51.1754304098470...|     101017|   L. Kieboomsstraat|  Wilrijk|\n",
      "|[51.1769064386623...|     101018|         Rooiboslaan|  Wilrijk|\n",
      "|[51.1766817117476...|     101019|         Rooiboslaan|  Wilrijk|\n",
      "+--------------------+-----------+--------------------+---------+\n",
      "only showing top 20 rows\n",
      "\n"
     ]
    }
   ],
   "source": [
    "# Read in the file (as json) and convert to a single column\n",
    "# The 'haltes' column gets renamed to 'stops'\n",
    "stops = spark.read.json(\"data/stops.txt\")\n",
    "stops = stops.select((explode(\"haltes\").alias(\"stops\")))\n",
    "\n",
    "# Map each entry in the dataframe to its own stop\n",
    "stops = stops.select('stops').rdd.map(lambda x: x.stops).toDF()\n",
    "# Drop unnecessary data\n",
    "stops = stops.drop('links', 'gemeentenummer', 'entiteitnummer')\n",
    "\n",
    "# Rename columns of dataframe to better name\n",
    "stops = stops \\\n",
    "            .withColumnRenamed('haltenummer', 'stop_number') \\\n",
    "            .withColumnRenamed('omschrijving', 'desc') \\\n",
    "            .withColumnRenamed('geoCoordinaat', 'coord') \\\n",
    "            .withColumnRenamed('omschrijvingGemeente', 'village') \\\n",
    "\n",
    "# Show the first 20 entries of the dataframe\n",
    "stops.show()\n"
   ]
  },
  {
   "cell_type": "code",
   "execution_count": 22,
   "metadata": {},
   "outputs": [],
   "source": [
    "def haversine(lon1, lat1, lon2, lat2):\n",
    "    \"\"\"\n",
    "    Calculate the great circle distance between two points \n",
    "    on the earth (specified in decimal degrees)\n",
    "    \"\"\"\n",
    "    # convert decimal degrees to radians \n",
    "    lon1, lat1, lon2, lat2 = map(radians, [lon1, lat1, lon2, lat2])\n",
    "\n",
    "    # haversine formula \n",
    "    dlon = lon2 - lon1 \n",
    "    dlat = lat2 - lat1 \n",
    "    a = sin(dlat/2)**2 + cos(lat1) * cos(lat2) * sin(dlon/2)**2\n",
    "    c = 2 * asin(sqrt(a)) \n",
    "    r = 6371 # Radius of earth in kilometers. Use 3956 for miles\n",
    "    return c * r"
   ]
  },
  {
   "cell_type": "code",
   "execution_count": 25,
   "metadata": {},
   "outputs": [],
   "source": [
    "location = [51, 4]\n",
    "\n",
    "@udf(returnType=FloatType())\n",
    "def get_distance(coord):\n",
    "    lat1 = location[0]\n",
    "    lon1 = location[1]\n",
    "    \n",
    "    lat2 = coord[0]\n",
    "    lon2 = coord[1]\n",
    "    \n",
    "    return haversine(lon1, lat1, lon2, lat2)\n"
   ]
  },
  {
   "cell_type": "code",
   "execution_count": 27,
   "metadata": {},
   "outputs": [
    {
     "name": "stdout",
     "output_type": "stream",
     "text": [
      "+--------------------+-----------+-------+----------+---------+\n",
      "|               coord|stop_number|   desc|   village|distances|\n",
      "+--------------------+-----------+-------+----------+---------+\n",
      "|[50.7405763095672...|     408842|Station|Remersdaal|135.51363|\n",
      "+--------------------+-----------+-------+----------+---------+\n",
      "only showing top 1 row\n",
      "\n"
     ]
    }
   ],
   "source": [
    "stops = stops.withColumn('distances', get_distance('coord'))\n",
    "stops = stops.sort(col('distances').desc())\n",
    "stops.show(1)\n"
   ]
  },
  {
   "cell_type": "code",
   "execution_count": null,
   "metadata": {},
   "outputs": [],
   "source": []
  }
 ],
 "metadata": {
  "kernelspec": {
   "display_name": "Python 3",
   "language": "python",
   "name": "python3"
  },
  "language_info": {
   "codemirror_mode": {
    "name": "ipython",
    "version": 3
   },
   "file_extension": ".py",
   "mimetype": "text/x-python",
   "name": "python",
   "nbconvert_exporter": "python",
   "pygments_lexer": "ipython3",
   "version": "3.7.4"
  }
 },
 "nbformat": 4,
 "nbformat_minor": 2
}
