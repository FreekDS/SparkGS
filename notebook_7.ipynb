{
 "cells": [
  {
   "cell_type": "markdown",
   "metadata": {},
   "source": [
    "## Setting up the environnement"
   ]
  },
  {
   "cell_type": "code",
   "execution_count": 20,
   "metadata": {},
   "outputs": [],
   "source": [
    "from pyspark.sql import SparkSession, SQLContext\n",
    "from pyspark.sql.functions import col, explode, json_tuple, regexp_replace, udf\n",
    "from pyspark.sql.functions import sum as col_sum\n",
    "from pyspark.sql.types import BooleanType, StructType, StructField, StringType, IntegerType, FloatType\n",
    "\n",
    "from math import radians, cos, sin, asin, sqrt\n",
    "from typing import List\n",
    "\n",
    "import re\n",
    "import os"
   ]
  },
  {
   "cell_type": "markdown",
   "metadata": {},
   "source": [
    "## Input parameters"
   ]
  },
  {
   "cell_type": "code",
   "execution_count": null,
   "metadata": {},
   "outputs": [],
   "source": [
    "# Radius to check for (in km)\n",
    "radius = 3\n",
    "\n",
    "# Position to check from. The location provided here is the location of the A. Chantrainestraat in Wilrijk.\n",
    "latlng = [51.16388937021345, 4.392073389160737]"
   ]
  },
  {
   "cell_type": "markdown",
   "metadata": {},
   "source": [
    "## Read the stop data"
   ]
  },
  {
   "cell_type": "code",
   "execution_count": 21,
   "metadata": {},
   "outputs": [
    {
     "name": "stdout",
     "output_type": "stream",
     "text": [
      "+--------------------+-----------+--------------------+---------+\n",
      "|               coord|stop_number|                desc|  village|\n",
      "+--------------------+-----------+--------------------+---------+\n",
      "|[51.1638893702134...|     101000| A. Chantrainestraat|  Wilrijk|\n",
      "|[51.2062496902375...|     101001|           Zurenborg|Antwerpen|\n",
      "|[51.1660665941742...|     101002|Verenigde Natieslaan|  Hoboken|\n",
      "|[51.1660216374063...|     101003|Verenigde Natieslaan|  Hoboken|\n",
      "|[51.1740548394127...|     101004|     D. Baginierlaan|  Hoboken|\n",
      "|[51.1630084393468...|     101005| A. Chantrainestraat|  Wilrijk|\n",
      "|[51.1597748887066...|     101006|      Fotografielaan|  Wilrijk|\n",
      "|[51.1599636330007...|     101007|      Fotografielaan|  Wilrijk|\n",
      "|[51.1629556669243...|     101008|            Moerelei|  Wilrijk|\n",
      "|[51.1634592883462...|     101009|            Moerelei|  Wilrijk|\n",
      "|[51.1887431659368...|     101010|        J. De Voslei|Antwerpen|\n",
      "|[51.1829725415369...|     101011|   Middelheim Vijver|Antwerpen|\n",
      "|[51.1622018810643...|     101012|          Antarctica|  Wilrijk|\n",
      "|[51.1619502254637...|     101013|          Antarctica|  Wilrijk|\n",
      "|[51.1794217154344...|     101014|     Rozenkransplein|  Wilrijk|\n",
      "|[51.1795025837593...|     101015|     Rozenkransplein|  Wilrijk|\n",
      "|[51.1750618209695...|     101016|   L. Kieboomsstraat|  Wilrijk|\n",
      "|[51.1754304098470...|     101017|   L. Kieboomsstraat|  Wilrijk|\n",
      "|[51.1769064386623...|     101018|         Rooiboslaan|  Wilrijk|\n",
      "|[51.1766817117476...|     101019|         Rooiboslaan|  Wilrijk|\n",
      "+--------------------+-----------+--------------------+---------+\n",
      "only showing top 20 rows\n",
      "\n"
     ]
    }
   ],
   "source": [
    "# Read in the file (as json) and convert to a single column\n",
    "# The 'haltes' column gets renamed to 'stops'\n",
    "stops = spark.read.json(\"data/stops.txt\")\n",
    "stops = stops.select((explode(\"haltes\").alias(\"stops\")))\n",
    "\n",
    "# Map each entry in the dataframe to its own stop\n",
    "stops = stops.select('stops').rdd.map(lambda x: x.stops).toDF()\n",
    "# Drop unnecessary data\n",
    "stops = stops.drop('links', 'gemeentenummer', 'entiteitnummer')\n",
    "\n",
    "# Rename columns of dataframe to better name\n",
    "stops = stops \\\n",
    "            .withColumnRenamed('haltenummer', 'stop_number') \\\n",
    "            .withColumnRenamed('omschrijving', 'desc') \\\n",
    "            .withColumnRenamed('geoCoordinaat', 'coord') \\\n",
    "            .withColumnRenamed('omschrijvingGemeente', 'village') \\\n",
    "\n",
    "# Show the first 20 entries of the dataframe\n",
    "stops.show()"
   ]
  },
  {
   "cell_type": "markdown",
   "metadata": {},
   "source": [
    "## Find centers of villages"
   ]
  },
  {
   "cell_type": "code",
   "execution_count": 26,
   "metadata": {},
   "outputs": [
    {
     "name": "stdout",
     "output_type": "stream",
     "text": [
      "+-----------+--------------------+----------+----------+\n",
      "|postal code|             village|lat_center|lon_center|\n",
      "+-----------+--------------------+----------+----------+\n",
      "|       1000|             Brussel|  50.84275|   4.35155|\n",
      "|       1000|           Bruxelles|  50.84275|   4.35155|\n",
      "|       1005|Brusselse Hoofdst...| 50.844875| 4.3514333|\n",
      "|       1005|Conseil Region Br...|  50.84786|  4.367408|\n",
      "|       1008|Chambre des Repr�...| 50.846558|  4.364662|\n",
      "|       1008|Kamer van Volksve...| 50.846558|  4.364662|\n",
      "|       1009|   Senat de Belgique|  50.79834|   4.39565|\n",
      "|       1010|Rijksadministrati...|  50.82433|  4.513954|\n",
      "|       1012|Parlement de la C...| 50.846638| 4.3619924|\n",
      "|       1020|             Brussel| 50.884216| 4.3580003|\n",
      "|       1020|           Bruxelles| 50.884216| 4.3580003|\n",
      "|       1020|              Laeken| 50.884216| 4.3580003|\n",
      "|       1020|               Laken| 50.884216| 4.3580003|\n",
      "|       1030|             Brussel|  50.86744|   4.37727|\n",
      "|       1030|           Bruxelles|  50.86744|   4.37727|\n",
      "|       1030|          Schaarbeek|  50.86744|   4.37727|\n",
      "|       1030|          Schaerbeek|  50.86744|   4.37727|\n",
      "|       1040|             Brussel| 50.832176|  4.388949|\n",
      "|       1040|           Bruxelles| 50.832176|  4.388949|\n",
      "|       1040|           Etterbeek| 50.832176|  4.388949|\n",
      "+-----------+--------------------+----------+----------+\n",
      "only showing top 20 rows\n",
      "\n"
     ]
    }
   ],
   "source": [
    "data = sc.textFile(\"data/zipcodes.csv\")\n",
    "data = data.map(lambda x: re.sub(r' \\(.*\\)', '', x))\n",
    "data = data.map(lambda x: re.sub(r\"[^\\S\\n\\t]+\", ' ', x))\n",
    "data = data.map(lambda x: x.split(';'))\n",
    "\n",
    "schema = StructType([\n",
    "    StructField('postal code', StringType(), False),\n",
    "    StructField('village', StringType(), False),\n",
    "    StructField('lat_center', StringType(), False),\n",
    "    StructField('lon_center', StringType(), False),\n",
    "    StructField('url', StringType(), False)\n",
    "])\n",
    "\n",
    "\n",
    "data = data.toDF(schema=schema).drop(\"url\")\n",
    "data = data.withColumn(\"lat_center\", data['lat_center'].cast(FloatType()))\n",
    "data = data.withColumn(\"lon_center\", data['lon_center'].cast(FloatType()))\n",
    "\n",
    "centers = data.where(col(\"lat_center\").isNotNull() & col(\"lon_center\").isNotNull())\n",
    "\n",
    "centers.show()"
   ]
  },
  {
   "cell_type": "markdown",
   "metadata": {},
   "source": [
    "## Haversine function\n",
    "A function to calculate the distance in between two geocoordinates. <br>\n",
    "Found at https://stackoverflow.com/questions/4913349/haversine-formula-in-python-bearing-and-distance-between-two-gps-points"
   ]
  },
  {
   "cell_type": "code",
   "execution_count": 23,
   "metadata": {},
   "outputs": [],
   "source": [
    "def haversine(lon1, lat1, lon2, lat2):\n",
    "    \"\"\"\n",
    "    Calculate the great circle distance between two points \n",
    "    on the earth (specified in decimal degrees)\n",
    "    \"\"\"\n",
    "    # convert decimal degrees to radians \n",
    "    lon1, lat1, lon2, lat2 = map(radians, [lon1, lat1, lon2, lat2])\n",
    "\n",
    "    # haversine formula \n",
    "    dlon = lon2 - lon1 \n",
    "    dlat = lat2 - lat1 \n",
    "    a = sin(dlat/2)**2 + cos(lat1) * cos(lat2) * sin(dlon/2)**2\n",
    "    c = 2 * asin(sqrt(a)) \n",
    "    r = 6371 # Radius of earth in kilometers. Use 3956 for miles\n",
    "    return c * r"
   ]
  },
  {
   "cell_type": "markdown",
   "metadata": {},
   "source": [
    "## Create filter function and parameters"
   ]
  },
  {
   "cell_type": "code",
   "execution_count": 24,
   "metadata": {},
   "outputs": [],
   "source": [
    "@udf(returnType=BooleanType())\n",
    "def in_radius(lat1, lon1):    \n",
    "    lat2 = latlng[0]\n",
    "    lon2 = latlng[1]\n",
    "    \n",
    "    return haversine(lon1, lat1, lon2, lat2) <= radius"
   ]
  },
  {
   "cell_type": "markdown",
   "metadata": {},
   "source": [
    "## Villages within the radius"
   ]
  },
  {
   "cell_type": "code",
   "execution_count": 27,
   "metadata": {},
   "outputs": [
    {
     "name": "stdout",
     "output_type": "stream",
     "text": [
      "+---------+\n",
      "|  village|\n",
      "+---------+\n",
      "|Antwerpen|\n",
      "|  Wilrijk|\n",
      "+---------+\n",
      "\n"
     ]
    }
   ],
   "source": [
    "cities_in_radius = centers.filter(in_radius('lat_center', 'lon_center')) \\\n",
    "                            .drop(\"postal code\", \"lat_center\", \"lon_center\") \\\n",
    "                            .distinct().sort(col(\"village\").asc())\n",
    "\n",
    "cities_in_radius.show()"
   ]
  },
  {
   "cell_type": "markdown",
   "metadata": {},
   "source": [
    "## The amount of stops per town"
   ]
  },
  {
   "cell_type": "code",
   "execution_count": 28,
   "metadata": {},
   "outputs": [
    {
     "name": "stdout",
     "output_type": "stream",
     "text": [
      "+-------------------+-------+\n",
      "|            village|# stops|\n",
      "+-------------------+-------+\n",
      "|              Bever|     28|\n",
      "|           Waanrode|     40|\n",
      "|              Duras|      2|\n",
      "|           Ettelgem|      8|\n",
      "|          Zillebeke|     25|\n",
      "|Sint-Job-in-'t-Goor|     24|\n",
      "|               Lint|     24|\n",
      "|          Merelbeke|     85|\n",
      "|             Essene|     31|\n",
      "|             Parike|     10|\n",
      "|          Huizingen|     21|\n",
      "| Glabbeek-Zuurbemde|     16|\n",
      "|             Gorsem|      6|\n",
      "|          Harelbeke|     81|\n",
      "|                Mol|    140|\n",
      "|        Hoogstraten|     38|\n",
      "|       Oud-Turnhout|     47|\n",
      "|           Hoevenen|     24|\n",
      "|         Rupelmonde|      6|\n",
      "|            Edingen|     12|\n",
      "+-------------------+-------+\n",
      "only showing top 20 rows\n",
      "\n"
     ]
    }
   ],
   "source": [
    "per_town = stops.groupBy(\"village\").count().select(col(\"village\"), col(\"count\").alias(\"# stops\"))\n",
    "per_town.show()"
   ]
  },
  {
   "cell_type": "markdown",
   "metadata": {},
   "source": [
    "## The amount of citizens per town"
   ]
  },
  {
   "cell_type": "code",
   "execution_count": 29,
   "metadata": {},
   "outputs": [
    {
     "name": "stdout",
     "output_type": "stream",
     "text": [
      "+--------------------+--------+\n",
      "|                vill|citizens|\n",
      "+--------------------+--------+\n",
      "|          Anderlecht|  117724|\n",
      "|             Brussel|  177112|\n",
      "|              Elsene|   86336|\n",
      "|           Etterbeek|   47410|\n",
      "|               Evere|   41016|\n",
      "|           Ganshoren|   24794|\n",
      "|               Jette|   52144|\n",
      "|          Koekelberg|   21765|\n",
      "|            Oudergem|   33725|\n",
      "|          Schaarbeek|  132097|\n",
      "| Sint‐Agatha‐Berchem|   24831|\n",
      "|         Sint‐Gillis|   49361|\n",
      "| Sint‐Jans‐Molenbeek|   95455|\n",
      "| Sint‐Joost‐ten‐Node|   26813|\n",
      "|Sint‐Lambrechts‐W...|   56212|\n",
      "| Sint‐Pieters‐Woluwe|   41513|\n",
      "|               Ukkel|   82038|\n",
      "|               Vorst|   55694|\n",
      "| Watermaal‐Bosvoorde|   25001|\n",
      "|          Aartselaar|   14298|\n",
      "+--------------------+--------+\n",
      "only showing top 20 rows\n",
      "\n",
      "root\n",
      " |-- vill: string (nullable = false)\n",
      " |-- citizens: integer (nullable = true)\n",
      "\n"
     ]
    }
   ],
   "source": [
    "citizens = sc.textFile(\"data/citizens.txt\")\n",
    "citizens.collect()\n",
    "\n",
    "# Remove unnecessary headers\n",
    "citizens = citizens.map(lambda x: re.sub(\n",
    "    r'^KONINKRIJK.*|^BRUSSELS.*|^ARR.*|^ARRONDISSEMENT.*|^PROVINC.*|^VLAAMS.*|^REGION.*', '', x))\n",
    "\n",
    "# Replace 'village / village-in-french' with 'village'\n",
    "citizens = citizens.map(lambda x: re.sub(r'/ .* ', '', x))\n",
    "\n",
    "# Remove everything in between parentheses\n",
    "citizens = citizens.map(lambda x: re.sub(r'\\(.*\\)', '', x))\n",
    "\n",
    "# Remove excess whitespaces\n",
    "citizens = citizens.map(lambda x: re.sub(r\"[^\\S\\n\\t]+\", ' ', x))\n",
    "\n",
    "# Remove empty lines\n",
    "citizens = citizens.filter(lambda x: x != '')\n",
    "\n",
    "# Remove '.' from the numbers\n",
    "citizens = citizens.map(lambda x: re.sub(r'\\.', '', x))\n",
    "\n",
    "# Split on space: gives a list of lists [[village, amount], [village, amount]...]\n",
    "citizens = citizens.map(lambda x: x.rsplit(' ', 1))\n",
    "\n",
    "\n",
    "for test in citizens.collect():\n",
    "    if len(test) > 2:\n",
    "        print(test)\n",
    "        \n",
    "\n",
    "# Create schema for dataframe\n",
    "# For some reason, the citizens field needs to be StringType here, else .show() will not work.\n",
    "s = StructType([\n",
    "    StructField('vill', StringType(), False),\n",
    "    StructField('citizens', StringType(), False)\n",
    "])\n",
    "\n",
    "# Create schema and cast the citizens column to IntegerType\n",
    "citizens = citizens.toDF(schema=s)\n",
    "\n",
    "# Cast to citizens column to integers\n",
    "citizens = citizens.withColumn(\"citizens\", citizens['citizens'].cast(IntegerType()))\n",
    "\n",
    "    \n",
    "citizens.show()\n",
    "citizens.printSchema()"
   ]
  },
  {
   "cell_type": "markdown",
   "metadata": {},
   "source": [
    "## The amount of stops per citizen of each town"
   ]
  },
  {
   "cell_type": "code",
   "execution_count": 40,
   "metadata": {},
   "outputs": [
    {
     "name": "stdout",
     "output_type": "stream",
     "text": [
      "+-------------+--------------------+\n",
      "|      village|              Result|\n",
      "+-------------+--------------------+\n",
      "|    Herstappe| 0.06818181818181818|\n",
      "|        Bever|0.012698412698412698|\n",
      "|     Geetbets|0.010941644562334218|\n",
      "|Nieuwerkerken|0.010205548368549663|\n",
      "|        Alken| 0.01020408163265306|\n",
      "|   Wachtebeke|0.008989056800416884|\n",
      "|     Overpelt|0.008533747090768037|\n",
      "|   Diepenbeek|0.008310249307479225|\n",
      "|     Pepingen| 0.00800182898948331|\n",
      "|   Zuienkerke|0.007686676427525...|\n",
      "|       Wellen|0.007296311309282529|\n",
      "|   Hoegaarden|0.006772334293948127|\n",
      "|    Koekelare|0.006709882861366996|\n",
      "|    Ruiselede|0.006685236768802228|\n",
      "| Begijnendijk|0.006664677210782851|\n",
      "|        Herne| 0.00662451068955134|\n",
      "|         Bree|           0.0061875|\n",
      "|        Balen|0.006109253065774805|\n",
      "|      Berlaar|0.006083782374413...|\n",
      "|        Melle|0.006051698798305...|\n",
      "+-------------+--------------------+\n",
      "only showing top 20 rows\n",
      "\n"
     ]
    }
   ],
   "source": [
    "data = per_town.join(citizens, citizens.vill == per_town.village)\n",
    "data = data.drop('vill')\n",
    "\n",
    "result = data.withColumn(\"Result\", col(\"# stops\")/col(\"citizens\")).sort(col('Result').desc())\n",
    "result = result.drop('# stops', 'citizens')\n",
    "\n",
    "result.show()"
   ]
  },
  {
   "cell_type": "markdown",
   "metadata": {},
   "source": [
    "## The amount of stops per citizen of each town within a certain radius"
   ]
  },
  {
   "cell_type": "code",
   "execution_count": 41,
   "metadata": {},
   "outputs": [
    {
     "name": "stdout",
     "output_type": "stream",
     "text": [
      "+---------+--------------------+\n",
      "|  village|              Result|\n",
      "+---------+--------------------+\n",
      "|Antwerpen|0.001159714767673...|\n",
      "+---------+--------------------+\n",
      "\n"
     ]
    }
   ],
   "source": [
    "result = result.join(cities_in_radius, \"village\", \"inner\")\n",
    "result = result.filter(col(\"Result\").isNotNull())\n",
    "\n",
    "result.show()"
   ]
  },
  {
   "cell_type": "code",
   "execution_count": null,
   "metadata": {},
   "outputs": [],
   "source": []
  }
 ],
 "metadata": {
  "kernelspec": {
   "display_name": "Python 3",
   "language": "python",
   "name": "python3"
  },
  "language_info": {
   "codemirror_mode": {
    "name": "ipython",
    "version": 3
   },
   "file_extension": ".py",
   "mimetype": "text/x-python",
   "name": "python",
   "nbconvert_exporter": "python",
   "pygments_lexer": "ipython3",
   "version": "3.7.4"
  }
 },
 "nbformat": 4,
 "nbformat_minor": 2
}
