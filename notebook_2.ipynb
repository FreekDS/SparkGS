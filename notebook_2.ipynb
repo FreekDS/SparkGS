{
 "cells": [
  {
   "cell_type": "markdown",
   "metadata": {},
   "source": [
    "## Setup of the environnement\n",
    "This section does all the required imports."
   ]
  },
  {
   "cell_type": "code",
   "execution_count": 1,
   "metadata": {},
   "outputs": [],
   "source": [
    "from pyspark.sql import SparkSession, SQLContext\n",
    "from pyspark.sql.functions import col, explode, json_tuple, regexp_replace\n",
    "from pyspark.sql.functions import sum as col_sum\n",
    "from pyspark.sql.types import StructField, StructType, StringType, IntegerType, ArrayType, FloatType\n",
    "\n",
    "import re\n",
    "import os\n",
    "\n",
    "spark = SparkSession.builder.appName(\"Notebook 2\").master(\"local\").getOrCreate()"
   ]
  },
  {
   "cell_type": "markdown",
   "metadata": {},
   "source": [
    "## Data preparation\n",
    "In this section, the data gets prepared and cleaned so that it is easy to use in the future."
   ]
  },
  {
   "cell_type": "markdown",
   "metadata": {},
   "source": [
    "#### Stops\n",
    "In this section the stops get converted to a usable dataframe."
   ]
  },
  {
   "cell_type": "code",
   "execution_count": 2,
   "metadata": {},
   "outputs": [
    {
     "name": "stdout",
     "output_type": "stream",
     "text": [
      "+--------------------+-----------+--------------------+---------+\n",
      "|               coord|stop_number|                desc|  village|\n",
      "+--------------------+-----------+--------------------+---------+\n",
      "|[51.1638893702134...|     101000| A. Chantrainestraat|  Wilrijk|\n",
      "|[51.2062496902375...|     101001|           Zurenborg|Antwerpen|\n",
      "|[51.1660665941742...|     101002|Verenigde Natieslaan|  Hoboken|\n",
      "|[51.1660216374063...|     101003|Verenigde Natieslaan|  Hoboken|\n",
      "|[51.1740548394127...|     101004|     D. Baginierlaan|  Hoboken|\n",
      "|[51.1630084393468...|     101005| A. Chantrainestraat|  Wilrijk|\n",
      "|[51.1597748887066...|     101006|      Fotografielaan|  Wilrijk|\n",
      "|[51.1599636330007...|     101007|      Fotografielaan|  Wilrijk|\n",
      "|[51.1629556669243...|     101008|            Moerelei|  Wilrijk|\n",
      "|[51.1634592883462...|     101009|            Moerelei|  Wilrijk|\n",
      "|[51.1887431659368...|     101010|        J. De Voslei|Antwerpen|\n",
      "|[51.1829725415369...|     101011|   Middelheim Vijver|Antwerpen|\n",
      "|[51.1622018810643...|     101012|          Antarctica|  Wilrijk|\n",
      "|[51.1619502254637...|     101013|          Antarctica|  Wilrijk|\n",
      "|[51.1794217154344...|     101014|     Rozenkransplein|  Wilrijk|\n",
      "|[51.1795025837593...|     101015|     Rozenkransplein|  Wilrijk|\n",
      "|[51.1750618209695...|     101016|   L. Kieboomsstraat|  Wilrijk|\n",
      "|[51.1754304098470...|     101017|   L. Kieboomsstraat|  Wilrijk|\n",
      "|[51.1769064386623...|     101018|         Rooiboslaan|  Wilrijk|\n",
      "|[51.1766817117476...|     101019|         Rooiboslaan|  Wilrijk|\n",
      "+--------------------+-----------+--------------------+---------+\n",
      "only showing top 20 rows\n",
      "\n"
     ]
    }
   ],
   "source": [
    "# Read in the file (as json) and convert to a single column\n",
    "# The 'haltes' column gets renamed to 'stops'\n",
    "stops = spark.read.json(\"data/stops.txt\")\n",
    "stops = stops.select((explode(\"haltes\").alias(\"stops\")))\n",
    "\n",
    "# Map each entry in the dataframe to its own stop\n",
    "stops = stops.select('stops').rdd.map(lambda x: x.stops).toDF()\n",
    "# Drop unnecessary data\n",
    "stops = stops.drop('links', 'gemeentenummer', 'entiteitnummer')\n",
    "\n",
    "# Rename columns of dataframe to better name\n",
    "stops = stops \\\n",
    "            .withColumnRenamed('haltenummer', 'stop_number') \\\n",
    "            .withColumnRenamed('omschrijving', 'desc') \\\n",
    "            .withColumnRenamed('geoCoordinaat', 'coord') \\\n",
    "            .withColumnRenamed('omschrijvingGemeente', 'village') \\\n",
    "\n",
    "# Show the first 20 entries of the dataframe\n",
    "stops.show()"
   ]
  },
  {
   "cell_type": "markdown",
   "metadata": {},
   "source": [
    "### The amount of stops in each village\n",
    "In this section, a datatable is created with the amount of stops in each village.\n",
    "To achieve this, the stops were grouped by village. Then it is possible to check how many times a village occurs.\n",
    "This count value is the amount of stops that are in that particular village.\n",
    "\n",
    "The select function below is only used to rename the second column of the dataframe from 'count' to '# stops'."
   ]
  },
  {
   "cell_type": "code",
   "execution_count": 25,
   "metadata": {},
   "outputs": [
    {
     "name": "stdout",
     "output_type": "stream",
     "text": [
      "+-------------------+-------+\n",
      "|            village|# stops|\n",
      "+-------------------+-------+\n",
      "|              Bever|     28|\n",
      "|           Waanrode|     40|\n",
      "|              Duras|      2|\n",
      "|           Ettelgem|      8|\n",
      "|          Zillebeke|     25|\n",
      "|Sint-Job-in-'t-Goor|     24|\n",
      "|               Lint|     24|\n",
      "|          Merelbeke|     85|\n",
      "|             Essene|     31|\n",
      "|             Parike|     10|\n",
      "|          Huizingen|     21|\n",
      "| Glabbeek-Zuurbemde|     16|\n",
      "|             Gorsem|      6|\n",
      "|          Harelbeke|     81|\n",
      "|                Mol|    140|\n",
      "|        Hoogstraten|     38|\n",
      "|       Oud-Turnhout|     47|\n",
      "|           Hoevenen|     24|\n",
      "|         Rupelmonde|      6|\n",
      "|            Edingen|     12|\n",
      "+-------------------+-------+\n",
      "only showing top 20 rows\n",
      "\n"
     ]
    }
   ],
   "source": [
    "per_town = stops.groupBy(\"village\").count().select(col(\"village\"), col(\"count\").alias(\"# stops\"))\n",
    "per_town.show()"
   ]
  },
  {
   "cell_type": "code",
   "execution_count": null,
   "metadata": {},
   "outputs": [],
   "source": []
  }
 ],
 "metadata": {
  "kernelspec": {
   "display_name": "Python 3",
   "language": "python",
   "name": "python3"
  },
  "language_info": {
   "codemirror_mode": {
    "name": "ipython",
    "version": 3
   },
   "file_extension": ".py",
   "mimetype": "text/x-python",
   "name": "python",
   "nbconvert_exporter": "python",
   "pygments_lexer": "ipython3",
   "version": "3.7.4"
  }
 },
 "nbformat": 4,
 "nbformat_minor": 2
}
