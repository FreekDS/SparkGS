{
 "cells": [
  {
   "cell_type": "markdown",
   "metadata": {},
   "source": [
    "## Setup of environnement\n",
    "This section contains all the imports of modules that are required to run this Notebook."
   ]
  },
  {
   "cell_type": "code",
   "execution_count": 1,
   "metadata": {},
   "outputs": [],
   "source": [
    "from pyspark.sql import SparkSession, SQLContext\n",
    "from pyspark.sql.functions import col, explode, json_tuple, regexp_replace\n",
    "from pyspark.sql.functions import sum as col_sum\n",
    "from pyspark.sql.types import StructField, StructType, StringType, IntegerType, ArrayType, FloatType\n",
    "import pyspark\n",
    "from pyspark import SparkConf\n",
    "\n",
    "import re\n",
    "import os"
   ]
  },
  {
   "cell_type": "markdown",
   "metadata": {},
   "source": [
    "## The amount of citizens per city\n",
    "In this section the citizens file is read and converted to a Pyspark dataframe.\n",
    "With this dataframe, calculations on the data can be made easier.\n",
    "First, the unneccessary headers are removed from the data.\n",
    "The French equivalent of the town names is not important and is thus removed.\n",
    "Empty lines and excess whitespaces are removed as well.\n",
    "The numbers in this file contain a '.' if the numbers are larger than 999.\n",
    "This '.' is removed as well.\n",
    "The output of this section are the first 20 entries of the resulting dataframe and the schema that is used within the dataframe."
   ]
  },
  {
   "cell_type": "code",
   "execution_count": 2,
   "metadata": {},
   "outputs": [
    {
     "name": "stdout",
     "output_type": "stream",
     "text": [
      "+--------------------+--------+\n",
      "|             village|citizens|\n",
      "+--------------------+--------+\n",
      "|          Anderlecht|  117724|\n",
      "|             Brussel|  177112|\n",
      "|              Elsene|   86336|\n",
      "|           Etterbeek|   47410|\n",
      "|               Evere|   41016|\n",
      "|           Ganshoren|   24794|\n",
      "|               Jette|   52144|\n",
      "|          Koekelberg|   21765|\n",
      "|            Oudergem|   33725|\n",
      "|          Schaarbeek|  132097|\n",
      "| Sint‐Agatha‐Berchem|   24831|\n",
      "|         Sint‐Gillis|   49361|\n",
      "| Sint‐Jans‐Molenbeek|   95455|\n",
      "| Sint‐Joost‐ten‐Node|   26813|\n",
      "|Sint‐Lambrechts‐W...|   56212|\n",
      "| Sint‐Pieters‐Woluwe|   41513|\n",
      "|               Ukkel|   82038|\n",
      "|               Vorst|   55694|\n",
      "| Watermaal‐Bosvoorde|   25001|\n",
      "|          Aartselaar|   14298|\n",
      "+--------------------+--------+\n",
      "only showing top 20 rows\n",
      "\n",
      "root\n",
      " |-- village: string (nullable = false)\n",
      " |-- citizens: integer (nullable = true)\n",
      "\n"
     ]
    }
   ],
   "source": [
    "citizens = sc.textFile(\"data/citizens.txt\")\n",
    "citizens.collect()\n",
    "\n",
    "# Remove unnecessary headers\n",
    "citizens = citizens.map(lambda x: re.sub(\n",
    "    r'^KONINKRIJK.*|^BRUSSELS.*|^ARR.*|^ARRONDISSEMENT.*|^PROVINC.*|^VLAAMS.*|^REGION.*', '', x))\n",
    "\n",
    "# Replace 'village / village-in-french' with 'village'\n",
    "citizens = citizens.map(lambda x: re.sub(r'/ .* ', '', x))\n",
    "\n",
    "# Remove everything in between parentheses\n",
    "citizens = citizens.map(lambda x: re.sub(r'\\(.*\\)', '', x))\n",
    "\n",
    "# Remove excess whitespaces\n",
    "citizens = citizens.map(lambda x: re.sub(r\"[^\\S\\n\\t]+\", ' ', x))\n",
    "\n",
    "# Remove empty lines\n",
    "citizens = citizens.filter(lambda x: x != '')\n",
    "\n",
    "# Remove '.' from the numbers\n",
    "citizens = citizens.map(lambda x: re.sub(r'\\.', '', x))\n",
    "\n",
    "# Split on space: gives a list of lists [[village, amount], [village, amount]...]\n",
    "citizens = citizens.map(lambda x: x.rsplit(' ', 1))\n",
    "\n",
    "\n",
    "# Create schema for dataframe\n",
    "s = StructType([\n",
    "    StructField('village', StringType(), False),\n",
    "    StructField('citizens', StringType(), False)\n",
    "])\n",
    "\n",
    "# Create schema and cast the citizens column to IntegerType\n",
    "citizens = citizens.toDF(schema=s)\n",
    "\n",
    "# Cast to citizens column to integers\n",
    "citizens = citizens.withColumn(\"citizens\", citizens['citizens'].cast(IntegerType()))\n",
    "\n",
    "    \n",
    "citizens.show()\n",
    "citizens.printSchema()"
   ]
  },
  {
   "cell_type": "markdown",
   "metadata": {},
   "source": [
    "## Stops\n",
    "In this section the stops txt file gets converted into a usable dataframe.\n",
    "The output of this section are the first 20 entries of the resulting dataframe.\n",
    "Village number, entity number and the links irrelevant data, so they are removed from the dataframe.\n",
    "To be more consistent with the rest of this notebook, the Dutch names are translated to English names."
   ]
  },
  {
   "cell_type": "code",
   "execution_count": 3,
   "metadata": {},
   "outputs": [
    {
     "name": "stdout",
     "output_type": "stream",
     "text": [
      "+-------------------+-------+\n",
      "|               vill|# stops|\n",
      "+-------------------+-------+\n",
      "|              Bever|     28|\n",
      "|           Waanrode|     40|\n",
      "|              Duras|      2|\n",
      "|           Ettelgem|      8|\n",
      "|          Zillebeke|     25|\n",
      "|Sint-Job-in-'t-Goor|     24|\n",
      "|               Lint|     24|\n",
      "|          Merelbeke|     85|\n",
      "|             Essene|     31|\n",
      "|             Parike|     10|\n",
      "|          Huizingen|     21|\n",
      "| Glabbeek-Zuurbemde|     16|\n",
      "|             Gorsem|      6|\n",
      "|          Harelbeke|     81|\n",
      "|                Mol|    140|\n",
      "|        Hoogstraten|     38|\n",
      "|       Oud-Turnhout|     47|\n",
      "|           Hoevenen|     24|\n",
      "|         Rupelmonde|      6|\n",
      "|            Edingen|     12|\n",
      "+-------------------+-------+\n",
      "only showing top 20 rows\n",
      "\n"
     ]
    }
   ],
   "source": [
    "# Read in the file (as json) and convert to a single column\n",
    "# The 'haltes' column gets renamed to 'stops'\n",
    "stops = spark.read.json(\"data/stops.txt\")\n",
    "stops = stops.select((explode(\"haltes\").alias(\"stops\")))\n",
    "\n",
    "# Map each entry in the dataframe to its own stop\n",
    "stops = stops.select('stops').rdd.map(lambda x: x.stops).toDF()\n",
    "# Drop unnecessary data\n",
    "stops = stops.drop('links', 'gemeentenummer', 'entiteitnummer')\n",
    "\n",
    "# Rename columns of dataframe to better name\n",
    "stops = stops \\\n",
    "            .withColumnRenamed('haltenummer', 'stop_number') \\\n",
    "            .withColumnRenamed('omschrijving', 'desc') \\\n",
    "            .withColumnRenamed('geoCoordinaat', 'coord') \\\n",
    "            .withColumnRenamed('omschrijvingGemeente', 'vill') \\\n",
    "\n",
    "# Get the amount of stops per town\n",
    "per_town = stops.groupBy(\"vill\").count().select(col(\"vill\"), col(\"count\").alias(\"# stops\"))\n",
    "per_town.show()"
   ]
  },
  {
   "cell_type": "markdown",
   "metadata": {},
   "source": [
    "## Combining the dataframes\n",
    "The next section combines the citizens dataframe with the dataframe that contains the amount of citizens per village.\n",
    "By doing so, it is easy to calculate the amount of stops per citizen of each village."
   ]
  },
  {
   "cell_type": "code",
   "execution_count": 4,
   "metadata": {},
   "outputs": [
    {
     "name": "stdout",
     "output_type": "stream",
     "text": [
      "+-------+-------------+--------+\n",
      "|# stops|      village|citizens|\n",
      "+-------+-------------+--------+\n",
      "|     28|        Bever|    2205|\n",
      "|     81|    Harelbeke|   27879|\n",
      "|     24|         Lint|    8776|\n",
      "|     85|    Merelbeke|   24629|\n",
      "|     17|   Alveringem|    5087|\n",
      "|     38|  Hoogstraten|   21293|\n",
      "|    140|          Mol|   36506|\n",
      "|     60|     Oostkamp|   23577|\n",
      "|      4|        Oreye|    3916|\n",
      "|     53|   Aartselaar|   14298|\n",
      "|     30|   Huldenberg|    9882|\n",
      "|     98|      Torhout|   20504|\n",
      "|     48|   Liedekerke|   13181|\n",
      "|     47|   Wuustwezel|   20663|\n",
      "|     25|     Kruibeke|   16661|\n",
      "|    129|     Overijse|   25169|\n",
      "|     30|    Boutersem|    8165|\n",
      "|    159|   Diepenbeek|   19133|\n",
      "|     44|    Houthulst|   10033|\n",
      "|     71|Nieuwerkerken|    6957|\n",
      "+-------+-------------+--------+\n",
      "only showing top 20 rows\n",
      "\n",
      "root\n",
      " |-- # stops: long (nullable = false)\n",
      " |-- village: string (nullable = false)\n",
      " |-- citizens: integer (nullable = true)\n",
      "\n"
     ]
    }
   ],
   "source": [
    "data = per_town.join(citizens, citizens.village == per_town.vill)\n",
    "data = data.drop('vill')\n",
    "data.show()\n",
    "data.printSchema()"
   ]
  },
  {
   "cell_type": "markdown",
   "metadata": {},
   "source": [
    "## Calculating the amount of stops per citizen of each village\n",
    "This final section uses the dataframe created in the previous section to calculate the amount of stops per citizen of each village. The resulting dataframe is sorted by the result in descending order.\n",
    "Unnecessary data is removed so that the output is as clean as possible.\n",
    "The output only shows the first 20 entries of the dataframe."
   ]
  },
  {
   "cell_type": "code",
   "execution_count": 6,
   "metadata": {},
   "outputs": [
    {
     "name": "stdout",
     "output_type": "stream",
     "text": [
      "+-------------+--------------------+\n",
      "|      village|              Result|\n",
      "+-------------+--------------------+\n",
      "|    Herstappe| 0.06818181818181818|\n",
      "|        Bever|0.012698412698412698|\n",
      "|     Geetbets|0.010941644562334218|\n",
      "|Nieuwerkerken|0.010205548368549663|\n",
      "|        Alken| 0.01020408163265306|\n",
      "|   Wachtebeke|0.008989056800416884|\n",
      "|     Overpelt|0.008533747090768037|\n",
      "|   Diepenbeek|0.008310249307479225|\n",
      "|     Pepingen| 0.00800182898948331|\n",
      "|   Zuienkerke|0.007686676427525...|\n",
      "|       Wellen|0.007296311309282529|\n",
      "|   Hoegaarden|0.006772334293948127|\n",
      "|    Koekelare|0.006709882861366996|\n",
      "|    Ruiselede|0.006685236768802228|\n",
      "| Begijnendijk|0.006664677210782851|\n",
      "|        Herne| 0.00662451068955134|\n",
      "|         Bree|           0.0061875|\n",
      "|        Balen|0.006109253065774805|\n",
      "|      Berlaar|0.006083782374413...|\n",
      "|        Melle|0.006051698798305...|\n",
      "+-------------+--------------------+\n",
      "only showing top 20 rows\n",
      "\n"
     ]
    }
   ],
   "source": [
    "# Add a column that contains the result and sort the table by this column\n",
    "result = data.withColumn(\"Result\", col(\"# stops\")/col(\"citizens\")).sort(col('Result').desc())\n",
    "# Drop unnecessary data\n",
    "result = result.drop('# stops', 'citizens')\n",
    "# Show the result\n",
    "result.show()"
   ]
  },
  {
   "cell_type": "code",
   "execution_count": null,
   "metadata": {},
   "outputs": [],
   "source": []
  }
 ],
 "metadata": {
  "kernelspec": {
   "display_name": "Python 3",
   "language": "python",
   "name": "python3"
  },
  "language_info": {
   "codemirror_mode": {
    "name": "ipython",
    "version": 3
   },
   "file_extension": ".py",
   "mimetype": "text/x-python",
   "name": "python",
   "nbconvert_exporter": "python",
   "pygments_lexer": "ipython3",
   "version": "3.7.4"
  }
 },
 "nbformat": 4,
 "nbformat_minor": 2
}
