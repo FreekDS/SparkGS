{
 "cells": [
  {
   "cell_type": "markdown",
   "metadata": {},
   "source": [
    "## Setup of environnement"
   ]
  },
  {
   "cell_type": "code",
   "execution_count": 1,
   "metadata": {},
   "outputs": [],
   "source": [
    "from pyspark.sql import SparkSession, SQLContext\n",
    "from pyspark.sql.functions import col, explode, json_tuple, regexp_replace\n",
    "from pyspark.sql.functions import sum as col_sum\n",
    "from pyspark.sql.types import StructField, StructType, StringType, IntegerType, ArrayType, FloatType\n",
    "import pyspark\n",
    "from pyspark import SparkConf\n",
    "\n",
    "import re\n",
    "import os"
   ]
  },
  {
   "cell_type": "markdown",
   "metadata": {},
   "source": [
    "## The amount of citizens per city"
   ]
  },
  {
   "cell_type": "code",
   "execution_count": 2,
   "metadata": {},
   "outputs": [
    {
     "name": "stdout",
     "output_type": "stream",
     "text": [
      "+--------------------+--------+\n",
      "|             village|citizens|\n",
      "+--------------------+--------+\n",
      "|          Anderlecht|  117724|\n",
      "|             Brussel|  177112|\n",
      "|              Elsene|   86336|\n",
      "|           Etterbeek|   47410|\n",
      "|               Evere|   41016|\n",
      "|           Ganshoren|   24794|\n",
      "|               Jette|   52144|\n",
      "|          Koekelberg|   21765|\n",
      "|            Oudergem|   33725|\n",
      "|          Schaarbeek|  132097|\n",
      "| Sint‐Agatha‐Berchem|   24831|\n",
      "|         Sint‐Gillis|   49361|\n",
      "| Sint‐Jans‐Molenbeek|   95455|\n",
      "| Sint‐Joost‐ten‐Node|   26813|\n",
      "|Sint‐Lambrechts‐W...|   56212|\n",
      "| Sint‐Pieters‐Woluwe|   41513|\n",
      "|               Ukkel|   82038|\n",
      "|               Vorst|   55694|\n",
      "| Watermaal‐Bosvoorde|   25001|\n",
      "|          Aartselaar|   14298|\n",
      "+--------------------+--------+\n",
      "only showing top 20 rows\n",
      "\n",
      "root\n",
      " |-- village: string (nullable = false)\n",
      " |-- citizens: integer (nullable = true)\n",
      "\n"
     ]
    }
   ],
   "source": [
    "citizens = sc.textFile(\"data/citizens.txt\")\n",
    "citizens.collect()\n",
    "\n",
    "# Remove unnecessary headers\n",
    "citizens = citizens.map(lambda x: re.sub(\n",
    "    r'^KONINKRIJK.*|^BRUSSELS.*|^ARR.*|^ARRONDISSEMENT.*|^PROVINC.*|^VLAAMS.*|^REGION.*', '', x))\n",
    "\n",
    "# Replace 'village / village-in-french' with 'village'\n",
    "citizens = citizens.map(lambda x: re.sub(r'/ .* ', '', x))\n",
    "\n",
    "# Remove everything in between parentheses\n",
    "citizens = citizens.map(lambda x: re.sub(r'\\(.*\\)', '', x))\n",
    "\n",
    "# Remove excess whitespaces\n",
    "citizens = citizens.map(lambda x: re.sub(r\"[^\\S\\n\\t]+\", ' ', x))\n",
    "\n",
    "# Remove empty lines\n",
    "citizens = citizens.filter(lambda x: x != '')\n",
    "\n",
    "# Remove '.' from the numbers\n",
    "citizens = citizens.map(lambda x: re.sub(r'\\.', '', x))\n",
    "\n",
    "# Split on space: gives a list of lists [[village, amount], [village, amount]...]\n",
    "citizens = citizens.map(lambda x: x.rsplit(' ', 1))\n",
    "\n",
    "\n",
    "for test in citizens.collect():\n",
    "    if len(test) > 2:\n",
    "        print(test)\n",
    "        \n",
    "\n",
    "# Create schema for dataframe\n",
    "# For some reason, the citizens field needs to be StringType here, else .show() will not work.\n",
    "s = StructType([\n",
    "    StructField('village', StringType(), False),\n",
    "    StructField('citizens', StringType(), False)\n",
    "])\n",
    "\n",
    "# Create schema and cast the citizens column to IntegerType\n",
    "citizens = citizens.toDF(schema=s)\n",
    "\n",
    "# Cast to citizens column to integers\n",
    "citizens = citizens.withColumn(\"citizens\", citizens['citizens'].cast(IntegerType()))\n",
    "\n",
    "    \n",
    "citizens.show()\n",
    "citizens.printSchema()"
   ]
  },
  {
   "cell_type": "markdown",
   "metadata": {},
   "source": [
    "## Stops"
   ]
  },
  {
   "cell_type": "code",
   "execution_count": 6,
   "metadata": {},
   "outputs": [
    {
     "name": "stdout",
     "output_type": "stream",
     "text": [
      "+-------------------+-------+\n",
      "|               vill|# stops|\n",
      "+-------------------+-------+\n",
      "|              Bever|     28|\n",
      "|           Waanrode|     40|\n",
      "|              Duras|      2|\n",
      "|           Ettelgem|      8|\n",
      "|          Zillebeke|     25|\n",
      "|Sint-Job-in-'t-Goor|     24|\n",
      "|               Lint|     24|\n",
      "|          Merelbeke|     85|\n",
      "|             Essene|     31|\n",
      "|             Parike|     10|\n",
      "|          Huizingen|     21|\n",
      "| Glabbeek-Zuurbemde|     16|\n",
      "|             Gorsem|      6|\n",
      "|          Harelbeke|     81|\n",
      "|                Mol|    140|\n",
      "|        Hoogstraten|     38|\n",
      "|       Oud-Turnhout|     47|\n",
      "|           Hoevenen|     24|\n",
      "|         Rupelmonde|      6|\n",
      "|            Edingen|     12|\n",
      "+-------------------+-------+\n",
      "only showing top 20 rows\n",
      "\n"
     ]
    }
   ],
   "source": [
    "# Read in the file (as json) and convert to a single column\n",
    "# The 'haltes' column gets renamed to 'stops'\n",
    "stops = spark.read.json(\"data/stops.txt\")\n",
    "stops = stops.select((explode(\"haltes\").alias(\"stops\")))\n",
    "\n",
    "# Map each entry in the dataframe to its own stop\n",
    "stops = stops.select('stops').rdd.map(lambda x: x.stops).toDF()\n",
    "# Drop unnecessary data\n",
    "stops = stops.drop('links', 'gemeentenummer', 'entiteitnummer')\n",
    "\n",
    "# Rename columns of dataframe to better name\n",
    "stops = stops \\\n",
    "            .withColumnRenamed('haltenummer', 'stop_number') \\\n",
    "            .withColumnRenamed('omschrijving', 'desc') \\\n",
    "            .withColumnRenamed('geoCoordinaat', 'coord') \\\n",
    "            .withColumnRenamed('omschrijvingGemeente', 'vill') \\\n",
    "\n",
    "# Get the amount of stops per town\n",
    "per_town = stops.groupBy(\"vill\").count().select(col(\"vill\"), col(\"count\").alias(\"# stops\"))\n",
    "per_town.show()"
   ]
  },
  {
   "cell_type": "markdown",
   "metadata": {},
   "source": [
    "## Combining the dataframes"
   ]
  },
  {
   "cell_type": "code",
   "execution_count": 12,
   "metadata": {},
   "outputs": [
    {
     "name": "stdout",
     "output_type": "stream",
     "text": [
      "+-------+-------------+--------+\n",
      "|# stops|      village|citizens|\n",
      "+-------+-------------+--------+\n",
      "|     28|        Bever|    2205|\n",
      "|     81|    Harelbeke|   27879|\n",
      "|     24|         Lint|    8776|\n",
      "|     85|    Merelbeke|   24629|\n",
      "|     17|   Alveringem|    5087|\n",
      "|     38|  Hoogstraten|   21293|\n",
      "|    140|          Mol|   36506|\n",
      "|     60|     Oostkamp|   23577|\n",
      "|      4|        Oreye|    3916|\n",
      "|     53|   Aartselaar|   14298|\n",
      "|     30|   Huldenberg|    9882|\n",
      "|     98|      Torhout|   20504|\n",
      "|     48|   Liedekerke|   13181|\n",
      "|     47|   Wuustwezel|   20663|\n",
      "|     25|     Kruibeke|   16661|\n",
      "|    129|     Overijse|   25169|\n",
      "|     30|    Boutersem|    8165|\n",
      "|    159|   Diepenbeek|   19133|\n",
      "|     44|    Houthulst|   10033|\n",
      "|     71|Nieuwerkerken|    6957|\n",
      "+-------+-------------+--------+\n",
      "only showing top 20 rows\n",
      "\n",
      "root\n",
      " |-- # stops: long (nullable = false)\n",
      " |-- village: string (nullable = false)\n",
      " |-- citizens: integer (nullable = true)\n",
      "\n"
     ]
    }
   ],
   "source": [
    "data = per_town.join(citizens, citizens.village == per_town.vill)\n",
    "data = data.drop('vill')\n",
    "data.show()\n",
    "data.printSchema()"
   ]
  },
  {
   "cell_type": "markdown",
   "metadata": {},
   "source": [
    "## Calculating the amount of stops per citizen of each village"
   ]
  },
  {
   "cell_type": "code",
   "execution_count": 13,
   "metadata": {},
   "outputs": [
    {
     "name": "stdout",
     "output_type": "stream",
     "text": [
      "+-------------+--------------------+\n",
      "|      village|              Result|\n",
      "+-------------+--------------------+\n",
      "|        Bever|0.012698412698412698|\n",
      "|    Harelbeke|0.002905412676207...|\n",
      "|         Lint|0.002734731084776...|\n",
      "|    Merelbeke|0.003451216046124...|\n",
      "|   Alveringem|0.003341851779044...|\n",
      "|  Hoogstraten|0.001784624054853...|\n",
      "|          Mol|0.003834986029693749|\n",
      "|     Oostkamp|0.002544853034737244|\n",
      "|        Oreye|0.001021450459652...|\n",
      "|   Aartselaar|0.003706812141558...|\n",
      "|   Huldenberg|0.003035822707953...|\n",
      "|      Torhout|0.004779555208739758|\n",
      "|   Liedekerke|0.003641605341021...|\n",
      "|   Wuustwezel|0.002274597105938...|\n",
      "|     Kruibeke|0.001500510173458976|\n",
      "|     Overijse|0.005125352616313719|\n",
      "|    Boutersem|0.003674219228413962|\n",
      "|   Diepenbeek|0.008310249307479225|\n",
      "|    Houthulst|0.004385527758397289|\n",
      "|Nieuwerkerken|0.010205548368549663|\n",
      "+-------------+--------------------+\n",
      "only showing top 20 rows\n",
      "\n"
     ]
    }
   ],
   "source": [
    "result = data.withColumn(\"Result\", col(\"# stops\")/col(\"citizens\"))\n",
    "result = result.drop('# stops', 'citizens')\n",
    "result.show()"
   ]
  },
  {
   "cell_type": "code",
   "execution_count": null,
   "metadata": {},
   "outputs": [],
   "source": []
  }
 ],
 "metadata": {
  "kernelspec": {
   "display_name": "Python 3",
   "language": "python",
   "name": "python3"
  },
  "language_info": {
   "codemirror_mode": {
    "name": "ipython",
    "version": 3
   },
   "file_extension": ".py",
   "mimetype": "text/x-python",
   "name": "python",
   "nbconvert_exporter": "python",
   "pygments_lexer": "ipython3",
   "version": "3.7.4"
  }
 },
 "nbformat": 4,
 "nbformat_minor": 2
}
