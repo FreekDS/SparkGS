{
 "cells": [
  {
   "cell_type": "code",
   "execution_count": null,
   "metadata": {},
   "outputs": [],
   "source": []
  },
  {
   "cell_type": "code",
   "execution_count": 6,
   "metadata": {},
   "outputs": [],
   "source": [
    "from pyspark.sql import SparkSession, SQLContext\n",
    "from pyspark.sql.functions import col, explode, json_tuple, regexp_replace, udf\n",
    "from pyspark.sql.functions import sum as col_sum\n",
    "from pyspark.sql.types import BooleanType\n",
    "\n",
    "from math import radians, cos, sin, asin, sqrt\n",
    "from typing import List\n",
    "\n",
    "import re\n",
    "import os"
   ]
  },
  {
   "cell_type": "markdown",
   "metadata": {},
   "source": [
    "## Read the stop data"
   ]
  },
  {
   "cell_type": "code",
   "execution_count": 3,
   "metadata": {},
   "outputs": [
    {
     "name": "stdout",
     "output_type": "stream",
     "text": [
      "+--------------------+-----------+--------------------+---------+\n",
      "|               coord|stop_number|                desc|  village|\n",
      "+--------------------+-----------+--------------------+---------+\n",
      "|[51.1638893702134...|     101000| A. Chantrainestraat|  Wilrijk|\n",
      "|[51.2062496902375...|     101001|           Zurenborg|Antwerpen|\n",
      "|[51.1660665941742...|     101002|Verenigde Natieslaan|  Hoboken|\n",
      "|[51.1660216374063...|     101003|Verenigde Natieslaan|  Hoboken|\n",
      "|[51.1740548394127...|     101004|     D. Baginierlaan|  Hoboken|\n",
      "|[51.1630084393468...|     101005| A. Chantrainestraat|  Wilrijk|\n",
      "|[51.1597748887066...|     101006|      Fotografielaan|  Wilrijk|\n",
      "|[51.1599636330007...|     101007|      Fotografielaan|  Wilrijk|\n",
      "|[51.1629556669243...|     101008|            Moerelei|  Wilrijk|\n",
      "|[51.1634592883462...|     101009|            Moerelei|  Wilrijk|\n",
      "|[51.1887431659368...|     101010|        J. De Voslei|Antwerpen|\n",
      "|[51.1829725415369...|     101011|   Middelheim Vijver|Antwerpen|\n",
      "|[51.1622018810643...|     101012|          Antarctica|  Wilrijk|\n",
      "|[51.1619502254637...|     101013|          Antarctica|  Wilrijk|\n",
      "|[51.1794217154344...|     101014|     Rozenkransplein|  Wilrijk|\n",
      "|[51.1795025837593...|     101015|     Rozenkransplein|  Wilrijk|\n",
      "|[51.1750618209695...|     101016|   L. Kieboomsstraat|  Wilrijk|\n",
      "|[51.1754304098470...|     101017|   L. Kieboomsstraat|  Wilrijk|\n",
      "|[51.1769064386623...|     101018|         Rooiboslaan|  Wilrijk|\n",
      "|[51.1766817117476...|     101019|         Rooiboslaan|  Wilrijk|\n",
      "+--------------------+-----------+--------------------+---------+\n",
      "only showing top 20 rows\n",
      "\n"
     ]
    }
   ],
   "source": [
    "# Read in the file (as json) and convert to a single column\n",
    "# The 'haltes' column gets renamed to 'stops'\n",
    "stops = spark.read.json(\"data/stops.txt\")\n",
    "stops = stops.select((explode(\"haltes\").alias(\"stops\")))\n",
    "\n",
    "# Map each entry in the dataframe to its own stop\n",
    "stops = stops.select('stops').rdd.map(lambda x: x.stops).toDF()\n",
    "# Drop unnecessary data\n",
    "stops = stops.drop('links', 'gemeentenummer', 'entiteitnummer')\n",
    "\n",
    "# Rename columns of dataframe to better name\n",
    "stops = stops \\\n",
    "            .withColumnRenamed('haltenummer', 'stop_number') \\\n",
    "            .withColumnRenamed('omschrijving', 'desc') \\\n",
    "            .withColumnRenamed('geoCoordinaat', 'coord') \\\n",
    "            .withColumnRenamed('omschrijvingGemeente', 'village') \\\n",
    "\n",
    "# Show the first 20 entries of the dataframe\n",
    "stops.show()"
   ]
  },
  {
   "cell_type": "markdown",
   "metadata": {},
   "source": [
    "## Haversine function\n",
    "A function to calculate the distance in between two geocoordinates. <br>\n",
    "Found at https://stackoverflow.com/questions/4913349/haversine-formula-in-python-bearing-and-distance-between-two-gps-points"
   ]
  },
  {
   "cell_type": "code",
   "execution_count": 7,
   "metadata": {},
   "outputs": [],
   "source": [
    "def haversine(lon1, lat1, lon2, lat2):\n",
    "    \"\"\"\n",
    "    Calculate the great circle distance between two points \n",
    "    on the earth (specified in decimal degrees)\n",
    "    \"\"\"\n",
    "    # convert decimal degrees to radians \n",
    "    lon1, lat1, lon2, lat2 = map(radians, [lon1, lat1, lon2, lat2])\n",
    "\n",
    "    # haversine formula \n",
    "    dlon = lon2 - lon1 \n",
    "    dlat = lat2 - lat1 \n",
    "    a = sin(dlat/2)**2 + cos(lat1) * cos(lat2) * sin(dlon/2)**2\n",
    "    c = 2 * asin(sqrt(a)) \n",
    "    r = 6371 # Radius of earth in kilometers. Use 3956 for miles\n",
    "    return c * r"
   ]
  },
  {
   "cell_type": "markdown",
   "metadata": {},
   "source": [
    "## Create filter function and parameters"
   ]
  },
  {
   "cell_type": "code",
   "execution_count": 15,
   "metadata": {},
   "outputs": [],
   "source": [
    "# Radius to check for (in km)\n",
    "radius = 1\n",
    "\n",
    "# Position to check from. The location provided here is the location of the A. Chantrainestraat in Wilrijk.\n",
    "latlng = [51.16388937021345, 4.392073389160737]\n",
    "\n",
    "@udf(returnType=BooleanType())\n",
    "def in_radius(latlng_col: List):\n",
    "    lat1 = latlng_col[0]\n",
    "    lon1 = latlng_col[1]\n",
    "    \n",
    "    lat2 = latlng[0]\n",
    "    lon2 = latlng[1]\n",
    "    \n",
    "    return haversine(lon1, lat1, lon2, lat2) <= radius\n",
    "    "
   ]
  },
  {
   "cell_type": "markdown",
   "metadata": {},
   "source": [
    "## Filter the data"
   ]
  },
  {
   "cell_type": "code",
   "execution_count": 17,
   "metadata": {},
   "outputs": [
    {
     "name": "stdout",
     "output_type": "stream",
     "text": [
      "+--------------------+-----------+--------------------+-------+\n",
      "|               coord|stop_number|                desc|village|\n",
      "+--------------------+-----------+--------------------+-------+\n",
      "|[51.1638893702134...|     101000| A. Chantrainestraat|Wilrijk|\n",
      "|[51.1630084393468...|     101005| A. Chantrainestraat|Wilrijk|\n",
      "|[51.1629556669243...|     101008|            Moerelei|Wilrijk|\n",
      "|[51.1634592883462...|     101009|            Moerelei|Wilrijk|\n",
      "|[51.1585508443406...|     101137|           Geleegweg|Wilrijk|\n",
      "|[51.1588924647597...|     101138|           Geleegweg|Wilrijk|\n",
      "|[51.1561506927094...|     101141|     Planetariumlaan|Wilrijk|\n",
      "|[51.1561237501239...|     101142|     Planetariumlaan|Wilrijk|\n",
      "|[51.1676829178755...|     101445|          Boekstraat|Wilrijk|\n",
      "|[51.1683390726348...|     101450|          Boekstraat|Wilrijk|\n",
      "|[51.1624349973914...|     101699|         Legerstraat|Wilrijk|\n",
      "|[51.1626237301586...|     101701|         Legerstraat|Wilrijk|\n",
      "|[51.1597168043640...|     102035|         Doornstraat|Wilrijk|\n",
      "|[51.1600224857784...|     102040|         Doornstraat|Wilrijk|\n",
      "|[51.1697582820329...|     102818|                Bist|Wilrijk|\n",
      "|[51.1698661545462...|     102819|                Bist|Wilrijk|\n",
      "|[51.1699919617868...|     102821|                Bist|Wilrijk|\n",
      "|[51.1700458669321...|     102822|                Bist|Wilrijk|\n",
      "|[51.1654612164324...|     103525|     Kerkeveldstraat|Wilrijk|\n",
      "|[51.1703050987090...|     103530|       Kerkhofstraat|Wilrijk|\n",
      "|[51.1565176727673...|     103625|  Kleine Doornstraat|Wilrijk|\n",
      "|[51.1565535221388...|     103630|  Kleine Doornstraat|Wilrijk|\n",
      "|[51.1706322609359...|     103685|    Koornbloemstraat|Wilrijk|\n",
      "|[51.1707221757706...|     103690|    Koornbloemstraat|Wilrijk|\n",
      "|[51.1628631216566...|     103740|  Universiteitsplein|Wilrijk|\n",
      "|[51.1629627685967...|     103745|          Krijgslaan|Wilrijk|\n",
      "|[51.1631244520302...|     103750|          Krijgslaan|Wilrijk|\n",
      "|[51.1654702542379...|     103770|     Kerkeveldstraat|Wilrijk|\n",
      "|[51.1704880058816...|     103976|      Boomsesteenweg|Wilrijk|\n",
      "|[51.1704611188249...|     103977|      Boomsesteenweg|Wilrijk|\n",
      "|[51.1663165133333...|     104540|          Oudestraat|Wilrijk|\n",
      "|[51.1663074969851...|     104545|          Oudestraat|Wilrijk|\n",
      "|[51.1703949723900...|     105150|       Kerkhofstraat|Wilrijk|\n",
      "|[51.1701440929789...|     105260|Sint-Sebastiaanst...|Wilrijk|\n",
      "|[51.1700721228687...|     105370|Sint-Sebastiaanst...|Wilrijk|\n",
      "|[51.1618815851317...|     105575|           UA Campus|Wilrijk|\n",
      "|[51.1618006878361...|     105576|           UA Campus|Wilrijk|\n",
      "|[51.1633210927417...|     105590|  Universiteitsplein|Wilrijk|\n",
      "|[51.1637885615421...|     105595|  Universiteitsplein|Wilrijk|\n",
      "|[51.1636478199354...|     108280|            Moerelei|Wilrijk|\n",
      "|[51.1637198608236...|     108285|            Moerelei|Wilrijk|\n",
      "|[51.1716564421191...|     108355|       J. Moretuslei|Wilrijk|\n",
      "|[51.1717192129266...|     108360|       J. Moretuslei|Wilrijk|\n",
      "|[51.1570865232896...|     108420|            Oudebaan|Wilrijk|\n",
      "|[51.167270208007,...|     109005|          Valkstraat|Wilrijk|\n",
      "|[51.1684744822365...|     109010|          Valkstraat|Wilrijk|\n",
      "+--------------------+-----------+--------------------+-------+\n",
      "\n"
     ]
    }
   ],
   "source": [
    "stops.filter(in_radius('coord')).show(100)"
   ]
  },
  {
   "cell_type": "code",
   "execution_count": null,
   "metadata": {},
   "outputs": [],
   "source": []
  }
 ],
 "metadata": {
  "kernelspec": {
   "display_name": "Python 3",
   "language": "python",
   "name": "python3"
  },
  "language_info": {
   "codemirror_mode": {
    "name": "ipython",
    "version": 3
   },
   "file_extension": ".py",
   "mimetype": "text/x-python",
   "name": "python",
   "nbconvert_exporter": "python",
   "pygments_lexer": "ipython3",
   "version": "3.7.4"
  }
 },
 "nbformat": 4,
 "nbformat_minor": 2
}
